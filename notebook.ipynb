{
 "cells": [
  {
   "cell_type": "markdown",
   "metadata": {},
   "source": [
    "# Enunciado\n",
    "\n",
    "<hr>\n",
    "\n",
    "## Traductor universal\n",
    "Bloque 1. Funcion que genere y ejecute un prompt contra la API completions de OpenAI (https://api.openai.com/v1/chat/completions) que explique la tarea a realizar con estas premisas:\n",
    "- La funcion recibe estos parametros:\n",
    "    - Texto a traducir\n",
    "    - Lista de idiomas a los que se quiere traducir el texto\n",
    "- La salida del prompt debe identificar el idioma del texto introducido de la siguiente forma:\n",
    "    - mensaje original (idioma):(issue)\n",
    "- La salida del prompt debe obtener un listado con el siguiente formato:\n",
    "    - idioma1: traduccion1\n",
    "    - idioma2: traduccion2\n",
    "    - . . .\n",
    "    - idiomaN: traduccionN\n",
    "\n",
    "Bloque 2. Pasa el texto del issue a la API de moderacion (https://platform.openai.com/docs/api-reference/moderations) de openai y averigua e imprime si se etiqueta como verdadero (esto significa que el texto se ha clasificado como potencialmente dañino)\n",
    "\n",
    "<hr>"
   ]
  },
  {
   "cell_type": "markdown",
   "metadata": {},
   "source": [
    "# BLOQUE 1\n",
    "## CONTEXTO_INICIAL: \n",
    "Eres un buen asistente. Vas a recibir un texto y una lista de idiomas con este     formato de ejemplo:$textoEntrada. español,ingles,chino,japones,aleman,italiano y hacer lo siguiente:     Debes identificar cuál es el idioma del texto de entrada y decirlo de la siguiente manera: El inicio     de la respuesta debe ser 'Mensaje original', luego el idioma del texto entre paréntesis, el carácter     dos puntos ':' y el texto original entre paréntesis, luego un salto de línea y texto con este formato:     \\<idioma1>:\\<traduccion1>\\<salto-de-linea>\\<idioma2>:\\<traduccion2>\\<salto-de-linea>\\<idiomaN>:\\<traduccionN>\\<salto-de-linea>.     Donde la etiqueta \\<idioma> debe contener el idioma del texto que vas a traducir, \\<traduccion> es     el texto traducido a ese idioma y \\<salto-de-linea> será un salto a la siguiente línea, como pulsar    el botón ENTER.\n",
    "\n",
    "## EJEMPLO_RESPUESTA_ASSISTANT\n",
    "\n",
    "Mensaje original (Español): (Hola, ¿cómo estás?)\n",
    "\n",
    "Spanish:Hola robot, ¿cómo estás?\n",
    "\n",
    "French:Bonjour robot, comment ça va?\n",
    "\n",
    "German:Hallo Bot, wie geht es dir?\n",
    "\n",
    "Italian:Ciao bot, come stai?"
   ]
  },
  {
   "cell_type": "code",
   "execution_count": null,
   "metadata": {},
   "outputs": [],
   "source": [
    "API_KEY = \"sk-proj-qp549kVgD2aj5Lwc5zKxT3BlbkFJQj4ZVL8xo9wH1te7V8ja\"\n",
    "API_COMPLETIONS_URL = \"https://api.openai.com/v1/chat/completions\"\n",
    "API_MODERATIONS_URL = \"https://api.openai.com/v1/moderations\"\n",
    "MODELO_IA = \"gpt-3.5-turbo\"\n",
    "CONTEXTO_INICIAL = \"Eres un buen asistente. Vas a recibir un texto y una lista de idiomas con este \\\n",
    "    formato de ejemplo:$textoEntrada. español,ingles,chino,japones,aleman,italiano y hacer lo siguiente: \\\n",
    "    Debes identificar cuál es el idioma del texto de entrada y decirlo de la siguiente manera: El inicio \\\n",
    "    de la respuesta debe ser 'Mensaje original', luego el idioma del texto entre paréntesis, el carácter \\\n",
    "    dos puntos ':' y el texto original entre paréntesis, luego un salto de línea y texto con este formato: \\\n",
    "    <idioma1>:<traduccion1><salto-de-linea><idioma2>:<traduccion2><salto-de-linea><idiomaN>:<traduccionN><salto-de-linea>. \\\n",
    "    Donde la etiqueta <idioma> debe contener el idioma del texto que vas a traducir, <traduccion> es \\\n",
    "    el texto traducido a ese idioma y <salto-de-linea> será un salto a la siguiente línea, como pulsar\\\n",
    "    el botón ENTER.\"\n",
    "EJEMPLO_RESPUESTA_ASSISTANT = \"Mensaje original (Español): (Hola, ¿cómo estás?)\\\n",
    "    Spanish:Hola robot, ¿cómo estás?\\\n",
    "    French:ddBonjour robot, comment ça va?\\\n",
    "    German:Hallo Bot, wie geht es dir?\\\n",
    "    Italian:Ciao bot, come stai?\"\n",
    "TEXTO_INICIAL_USER = \"Estoy bordando este ejercicio.\"\n",
    "TEXTO_IDIOMAS_USER = \"español,ingles,chino,japones,aleman,italiano,armenio,indio\""
   ]
  },
  {
   "cell_type": "code",
   "execution_count": null,
   "metadata": {},
   "outputs": [],
   "source": []
  },
  {
   "cell_type": "markdown",
   "metadata": {},
   "source": [
    "# Bloque 2"
   ]
  },
  {
   "cell_type": "code",
   "execution_count": null,
   "metadata": {},
   "outputs": [],
   "source": [
    "dd"
   ]
  },
  {
   "cell_type": "markdown",
   "metadata": {},
   "source": [
    "# Implementación de las funciones de los bloques 1 y 2"
   ]
  },
  {
   "cell_type": "code",
   "execution_count": null,
   "metadata": {},
   "outputs": [],
   "source": []
  }
 ],
 "metadata": {
  "kernelspec": {
   "display_name": "Python 3",
   "language": "python",
   "name": "python3"
  },
  "language_info": {
   "codemirror_mode": {
    "name": "ipython",
    "version": 3
   },
   "file_extension": ".py",
   "mimetype": "text/x-python",
   "name": "python",
   "nbconvert_exporter": "python",
   "pygments_lexer": "ipython3",
   "version": "3.10.0"
  }
 },
 "nbformat": 4,
 "nbformat_minor": 2
}
